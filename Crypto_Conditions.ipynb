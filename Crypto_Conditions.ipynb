{
  "nbformat": 4,
  "nbformat_minor": 0,
  "metadata": {
    "colab": {
      "provenance": [],
      "authorship_tag": "ABX9TyMsedIjeRDTSF5FxoNZ4QkL",
      "include_colab_link": true
    },
    "kernelspec": {
      "name": "python3",
      "display_name": "Python 3"
    },
    "language_info": {
      "name": "python"
    }
  },
  "cells": [
    {
      "cell_type": "markdown",
      "metadata": {
        "id": "view-in-github",
        "colab_type": "text"
      },
      "source": [
        "<a href=\"https://colab.research.google.com/github/AstroWLAN/CryptoConditions/blob/main/Crypto_Conditions.ipynb\" target=\"_parent\"><img src=\"https://colab.research.google.com/assets/colab-badge.svg\" alt=\"Open In Colab\"/></a>"
      ]
    },
    {
      "cell_type": "markdown",
      "source": [
        "# **Crypto Conditions 🔐**\n",
        "### **Abstract**&nbsp;💭\n",
        "\n",
        "\n",
        "### **Components**&nbsp;⚙️\n",
        "A Crypto Condition scheme consists of several components\n",
        "\n",
        "**Fulfillment**<br>\n",
        "Represents the circuit definition and the minimum required logic gates with their inputs\n",
        "\n",
        "**Condition**<br>\n",
        "Represents the circuit definition and the minimum required logic gates with their inputs"
      ],
      "metadata": {
        "id": "Lkx8fmL99Xie"
      }
    },
    {
      "cell_type": "code",
      "execution_count": null,
      "metadata": {
        "id": "PP9efeY79XCN"
      },
      "outputs": [],
      "source": [
        "# Environment setup\n",
        "!pip install cryptoconditions\n",
        "\n",
        "# Imports shared modules\n",
        "import binascii\n",
        "import cryptoconditions as cryptocon"
      ]
    },
    {
      "cell_type": "markdown",
      "source": [
        "##**Preimage SHA256**\n",
        "\n",
        "### **Description**&nbsp;📗\n",
        "The Preimage SHA256 relies on the **SHA256 digest algorithm**\n",
        "\n",
        "\n",
        "\n",
        "### **Fulfillment** &nbsp;📦\n",
        "The Preimage SHA256 simply contains the **preimage** of the SHA256 cryptographic hash function<br>\n",
        "> It represents the encoded version of the secret message\n",
        "\n",
        "```\n",
        "PreimageSHA256 Fulfillment ::= {\n",
        "    preimage    secret_message.encode()\n",
        "}\n",
        "```\n",
        "\n",
        "\n",
        "\n",
        "### **Condition** &nbsp;🔦\n",
        "The fingerprint of the Preimage SHA256 conditions is the SHA256 hash of the unencoded preimage\n",
        "```\n",
        "PreimageSHA256 Condition ::= {\n",
        "    fingerprint    SHA256(preimage.decode())\n",
        "}\n",
        "```\n",
        "\n",
        "### **Validation** &nbsp;🔑\n",
        "The Preimage SHA256 fulfillment is valid if the condition fingerprint is equal to the SHA256 hash digest of the fulfillment"
      ],
      "metadata": {
        "id": "Cg3XJd-JWL2k"
      }
    },
    {
      "cell_type": "code",
      "source": [
        "# Defines the secret message [ the preimage ] and encodes it\n",
        "secret_message = 'Oppenheimer is a great movie!'\n",
        "secret_message_encoded = secret_message.encode('utf-8')\n",
        "\n",
        "print(f'The \\u001b[1msecret message\\u001b[0m is : \\\"{secret_message}\\\"')\n",
        "print(f'\\u001b[38;5;246mIts hex encoded representation is {secret_message_encoded.hex()}\\u001b[0m','\\n')\n",
        "\n",
        "# Generates the fulfillment [ it exclusively contains the encoded preimage ]\n",
        "fulfillment = cryptocon.PreimageSha256(preimage=secret_message_encoded)\n",
        "print('\\u001b[38;5;38m\\u001b[1mFulfillment\\u001b[0m ::=')\n",
        "print(fulfillment.TYPE_ASN1,fulfillment.asn1_dict_payload,'\\n')\n",
        "\n",
        "# Retrieves the condition [ the fingerprint content is the hash digest of the fulfillment ]\n",
        "condition = fulfillment.condition\n",
        "condition_dict = condition.to_asn1_dict()\n",
        "condition_payload = condition_dict.get(fulfillment.TYPE_ASN1)\n",
        "print('\\u001b[38;5;38m\\u001b[1mCondition\\u001b[0m ::=')\n",
        "print(condition_dict)\n",
        "\n",
        "# VALIDATION : fingerprint = h(preimage) [ h() is SHA256 ]\n",
        "\n",
        "# Extracts the fingerprint of the condition\n",
        "fingerprint = condition_payload.get('fingerprint')\n",
        "fingerprint_hex = binascii.hexlify(fingerprint).decode('utf-8')\n",
        "print(f'\\u001b[38;5;246mThe hex representation of the fingerprint is \\u001b[1m{fingerprint_hex}\\u001b[0m','\\n')\n",
        "\n",
        "# Calculates the hash digest of the fulfillment [  ]\n",
        "fulfillment_hash = fulfillment.generate_hash()\n",
        "fulfillment_hash_hex = binascii.hexlify(fulfillment_hash).decode('utf-8')\n",
        "print(f'The \\u001b[1mhash digest\\u001b[0m of the fulfillment is \\u001b[1m{fulfillment_hash_hex}\\u001b[0m')\n",
        "print('\\u001b[38;5;246mIt corresponds to the SHA256 digest of the preimage\\u001b[0m','\\n')\n",
        "\n",
        "# Checks the validation condition\n",
        "if fulfillment_hash_hex == fingerprint_hex :\n",
        "  print('Since the fulfillment hash digest and the fingerprint are the same the fulfillment is \\u001b[38;5;2m\\u001b[1mVALID\\u001b[0m')"
      ],
      "metadata": {
        "id": "h7CrCWuwXBTY"
      },
      "execution_count": null,
      "outputs": []
    }
  ]
}